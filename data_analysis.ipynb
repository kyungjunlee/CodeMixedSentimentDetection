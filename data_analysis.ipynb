{
 "nbformat": 4,
 "nbformat_minor": 2,
 "metadata": {
  "language_info": {
   "name": "python",
   "codemirror_mode": {
    "name": "ipython",
    "version": 3
   },
   "version": "3.7.5"
  },
  "orig_nbformat": 2,
  "file_extension": ".py",
  "mimetype": "text/x-python",
  "name": "python",
  "npconvert_exporter": "python",
  "pygments_lexer": "ipython3",
  "version": 3
 },
 "cells": [
  {
   "cell_type": "code",
   "execution_count": 5,
   "metadata": {},
   "outputs": [],
   "source": [
    "import pandas as pd\n",
    "import numpy as np\n",
    "import random\n",
    "random.seed(0)\n",
    "seed = 0"
   ]
  },
  {
   "cell_type": "code",
   "execution_count": 18,
   "metadata": {},
   "outputs": [
    {
     "data": {
      "text/html": "<div>\n<style scoped>\n    .dataframe tbody tr th:only-of-type {\n        vertical-align: middle;\n    }\n\n    .dataframe tbody tr th {\n        vertical-align: top;\n    }\n\n    .dataframe thead th {\n        text-align: right;\n    }\n</style>\n<table border=\"1\" class=\"dataframe\">\n  <thead>\n    <tr style=\"text-align: right;\">\n      <th></th>\n      <th>id</th>\n      <th>text</th>\n      <th>label</th>\n    </tr>\n  </thead>\n  <tbody>\n    <tr>\n      <th>0</th>\n      <td>1</td>\n      <td>So that means tomorrow cruda segura lol</td>\n      <td>positive</td>\n    </tr>\n    <tr>\n      <th>1</th>\n      <td>2</td>\n      <td>Tonight peda segura</td>\n      <td>neutral</td>\n    </tr>\n    <tr>\n      <th>2</th>\n      <td>3</td>\n      <td>Eres tan mala vieja bruja interesada#jamming</td>\n      <td>negative</td>\n    </tr>\n    <tr>\n      <th>3</th>\n      <td>4</td>\n      <td>Yo kiero Pretzels lol</td>\n      <td>neutral</td>\n    </tr>\n    <tr>\n      <th>4</th>\n      <td>5</td>\n      <td>Fuck that ni ke el me vaya a mantener toda la ...</td>\n      <td>negative</td>\n    </tr>\n  </tbody>\n</table>\n</div>",
      "text/plain": "   id                                               text     label\n0   1            So that means tomorrow cruda segura lol  positive\n1   2                                Tonight peda segura   neutral\n2   3       Eres tan mala vieja bruja interesada#jamming  negative\n3   4                              Yo kiero Pretzels lol   neutral\n4   5  Fuck that ni ke el me vaya a mantener toda la ...  negative"
     },
     "execution_count": 18,
     "metadata": {},
     "output_type": "execute_result"
    }
   ],
   "source": [
    "df = pd.read_csv('data/train_conll_spanglish.csv', sep='\\t', names=[\"id\", \"text\", \"label\"])\n",
    "df.head()"
   ]
  },
  {
   "cell_type": "code",
   "execution_count": 17,
   "metadata": {},
   "outputs": [
    {
     "data": {
      "text/html": "<div>\n<style scoped>\n    .dataframe tbody tr th:only-of-type {\n        vertical-align: middle;\n    }\n\n    .dataframe tbody tr th {\n        vertical-align: top;\n    }\n\n    .dataframe thead th {\n        text-align: right;\n    }\n</style>\n<table border=\"1\" class=\"dataframe\">\n  <thead>\n    <tr style=\"text-align: right;\">\n      <th></th>\n      <th>label</th>\n    </tr>\n  </thead>\n  <tbody>\n    <tr>\n      <th>positive</th>\n      <td>7503</td>\n    </tr>\n    <tr>\n      <th>neutral</th>\n      <td>4968</td>\n    </tr>\n    <tr>\n      <th>negative</th>\n      <td>2529</td>\n    </tr>\n  </tbody>\n</table>\n</div>",
      "text/plain": "          label\npositive   7503\nneutral    4968\nnegative   2529"
     },
     "execution_count": 17,
     "metadata": {},
     "output_type": "execute_result"
    }
   ],
   "source": [
    "pd.DataFrame(df.label.value_counts())"
   ]
  },
  {
   "cell_type": "code",
   "execution_count": 21,
   "metadata": {},
   "outputs": [
    {
     "data": {
      "text/html": "<div>\n<style scoped>\n    .dataframe tbody tr th:only-of-type {\n        vertical-align: middle;\n    }\n\n    .dataframe tbody tr th {\n        vertical-align: top;\n    }\n\n    .dataframe thead th {\n        text-align: right;\n    }\n</style>\n<table border=\"1\" class=\"dataframe\">\n  <thead>\n    <tr style=\"text-align: right;\">\n      <th></th>\n      <th>id</th>\n      <th>text</th>\n      <th>label</th>\n    </tr>\n  </thead>\n  <tbody>\n    <tr>\n      <th>0</th>\n      <td>3</td>\n      <td>@ AdilNisarButt pakistan ka ghra tauq he Pakis...</td>\n      <td>negative</td>\n    </tr>\n    <tr>\n      <th>1</th>\n      <td>41</td>\n      <td>Madarchod mulle ye mathura me Nahi dikha tha j...</td>\n      <td>negative</td>\n    </tr>\n    <tr>\n      <th>2</th>\n      <td>48</td>\n      <td>@ narendramodi Manya Pradhan Mantri mahoday Sh...</td>\n      <td>positive</td>\n    </tr>\n    <tr>\n      <th>3</th>\n      <td>64</td>\n      <td>@ Atheist_ Krishna Jcb full trend me chal rahi aa</td>\n      <td>positive</td>\n    </tr>\n    <tr>\n      <th>4</th>\n      <td>66</td>\n      <td>@ AbhisharSharma_@ RavishKumarBlog Loksabha me...</td>\n      <td>positive</td>\n    </tr>\n  </tbody>\n</table>\n</div>",
      "text/plain": "   id                                               text     label\n0   3  @ AdilNisarButt pakistan ka ghra tauq he Pakis...  negative\n1  41  Madarchod mulle ye mathura me Nahi dikha tha j...  negative\n2  48  @ narendramodi Manya Pradhan Mantri mahoday Sh...  positive\n3  64  @ Atheist_ Krishna Jcb full trend me chal rahi aa  positive\n4  66  @ AbhisharSharma_@ RavishKumarBlog Loksabha me...  positive"
     },
     "execution_count": 21,
     "metadata": {},
     "output_type": "execute_result"
    }
   ],
   "source": [
    "df = pd.read_csv('data/train_conll_hinglish.csv', sep='\\t', names=[\"id\", \"text\", \"label\"])\n",
    "df.head()"
   ]
  },
  {
   "cell_type": "code",
   "execution_count": 22,
   "metadata": {},
   "outputs": [
    {
     "data": {
      "text/html": "<div>\n<style scoped>\n    .dataframe tbody tr th:only-of-type {\n        vertical-align: middle;\n    }\n\n    .dataframe tbody tr th {\n        vertical-align: top;\n    }\n\n    .dataframe thead th {\n        text-align: right;\n    }\n</style>\n<table border=\"1\" class=\"dataframe\">\n  <thead>\n    <tr style=\"text-align: right;\">\n      <th></th>\n      <th>label</th>\n    </tr>\n  </thead>\n  <tbody>\n    <tr>\n      <th>neutral</th>\n      <td>5638</td>\n    </tr>\n    <tr>\n      <th>positive</th>\n      <td>5034</td>\n    </tr>\n    <tr>\n      <th>negative</th>\n      <td>4459</td>\n    </tr>\n  </tbody>\n</table>\n</div>",
      "text/plain": "          label\nneutral    5638\npositive   5034\nnegative   4459"
     },
     "execution_count": 22,
     "metadata": {},
     "output_type": "execute_result"
    }
   ],
   "source": [
    "pd.DataFrame(df.label.value_counts())"
   ]
  },
  {
   "cell_type": "code",
   "execution_count": null,
   "metadata": {},
   "outputs": [],
   "source": []
  }
 ]
}